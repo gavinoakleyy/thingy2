{
 "cells": [
  {
   "cell_type": "markdown",
   "metadata": {},
   "source": [
    "# ***Turtle shows you how to draw a circle.***"
   ]
  },
  {
   "cell_type": "code",
   "execution_count": 18,
   "metadata": {},
   "outputs": [],
   "source": [
    "import turtle\n",
    "import random\n",
    "\n",
    "x = random.randrange(20, 200)\n",
    "\n",
    "turtle.circle(x)\n",
    "\n",
    "turtle.penup()\n",
    "\n",
    "turtle.right(90)\n",
    "turtle.forward(60)\n",
    "\n",
    "turtle.write(\"This circle has a radius of \" + str(x) + \" units. Neat. Click to exit :)\")\n",
    "\n",
    "turtle.forward(20)\n",
    "\n",
    "turtle.exitonclick()"
   ]
  },
  {
   "cell_type": "markdown",
   "metadata": {},
   "source": [
    "# This is turtle's greatest work\n",
    "# She is so happy, see the smiley face?"
   ]
  },
  {
   "cell_type": "code",
   "execution_count": null,
   "metadata": {},
   "outputs": [],
   "source": []
  }
 ],
 "metadata": {
  "kernelspec": {
   "display_name": "Python 3",
   "language": "python",
   "name": "python3"
  },
  "language_info": {
   "codemirror_mode": {
    "name": "ipython",
    "version": 3
   },
   "file_extension": ".py",
   "mimetype": "text/x-python",
   "name": "python",
   "nbconvert_exporter": "python",
   "pygments_lexer": "ipython3",
   "version": "3.7.3"
  }
 },
 "nbformat": 4,
 "nbformat_minor": 2
}
